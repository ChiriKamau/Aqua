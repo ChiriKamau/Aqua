{
  "nbformat": 4,
  "nbformat_minor": 0,
  "metadata": {
    "colab": {
      "provenance": [],
      "include_colab_link": true
    },
    "kernelspec": {
      "name": "python3",
      "display_name": "Python 3"
    },
    "language_info": {
      "name": "python"
    }
  },
  "cells": [
    {
      "cell_type": "markdown",
      "metadata": {
        "id": "view-in-github",
        "colab_type": "text"
      },
      "source": [
        "<a href=\"https://colab.research.google.com/github/ChiriKamau/Aqua/blob/main/ApplicationTest.ipynb\" target=\"_parent\"><img src=\"https://colab.research.google.com/assets/colab-badge.svg\" alt=\"Open In Colab\"/></a>"
      ]
    },
    {
      "cell_type": "markdown",
      "source": [
        "# MLCL + DSAIL Summer Programme Application Take-home Test\n",
        "\n",
        "### Neil Lawrence, Radzim Sendyka\n",
        "### July 2025"
      ],
      "metadata": {
        "id": "Rod9R5848MBV"
      }
    },
    {
      "cell_type": "code",
      "source": [
        "### ANSWERS BY:\n",
        "### TODO: your name here"
      ],
      "metadata": {
        "id": "7F2Efux0HJMZ"
      },
      "execution_count": null,
      "outputs": []
    },
    {
      "cell_type": "markdown",
      "source": [
        "## Part 1 (Motivation)"
      ],
      "metadata": {
        "id": "ExBhv-5B8gTr"
      }
    },
    {
      "cell_type": "markdown",
      "source": [
        "Task 0: What are you looking to get out of the programme? What are your expectations for the course and for yourself?\n",
        "\n",
        "(100-300 words)"
      ],
      "metadata": {
        "id": "ZKugkG_J9p28"
      }
    },
    {
      "cell_type": "code",
      "source": [
        "### TODO: your answer here"
      ],
      "metadata": {
        "id": "IcIUhA8a8Vzj"
      },
      "execution_count": null,
      "outputs": []
    },
    {
      "cell_type": "markdown",
      "source": [
        "## Part 2 (Warm-up)"
      ],
      "metadata": {
        "id": "iu5ciWwG85vQ"
      }
    },
    {
      "cell_type": "markdown",
      "source": [
        "As an example data set we will use Nigerian Millennium Development Goals Information System Health Facility. It can be found here https://energydata.info/dataset/nigeria-nmis-education-facility-data-2014."
      ],
      "metadata": {
        "id": "iW_0D92W9sqZ"
      }
    },
    {
      "cell_type": "markdown",
      "source": [
        "The data can be accessed using [PODS](http://inverseprobability.com/2014/07/01/open-data-science)\n",
        "\n",
        "```\n",
        "%pip install pods\n",
        "```\n",
        "\n",
        "```\n",
        "import pods\n",
        "data = pods.datasets.nigeria_nmis()['Y']\n",
        "```\n",
        "\n",
        "or alternatively\n",
        "\n",
        "```\n",
        "import urllib.request\n",
        "urllib.request.urlretrieve('https://energydata.info/dataset/f85d1796-e7f2-4630-be84-79420174e3bd/resource/6e640a13-cab4-457b-b9e6-0336051bac27/download/healthmopupandbaselinenmisfacility.csv', 'healthmopupandbaselinenmisfacility.csv')\n",
        "\n",
        "import pandas as pd\n",
        "data = pd.read_csv('healthmopupandbaselinenmisfacility.csv')\n",
        "```"
      ],
      "metadata": {
        "id": "vGFCn3v0-HRO"
      }
    },
    {
      "cell_type": "markdown",
      "source": [
        "Task 1:\n",
        "Download the data and run `data.head()` to demonstrate success."
      ],
      "metadata": {
        "id": "Av7_dnqe-hwY"
      }
    },
    {
      "cell_type": "code",
      "source": [
        "### TODO: your answer here"
      ],
      "metadata": {
        "id": "twM69jFF8r3v"
      },
      "execution_count": null,
      "outputs": []
    },
    {
      "cell_type": "code",
      "source": [
        "data.head()"
      ],
      "metadata": {
        "collapsed": true,
        "id": "2cdnTcip-pjQ"
      },
      "execution_count": null,
      "outputs": []
    },
    {
      "cell_type": "markdown",
      "source": [
        "Task 2: Explore the data, figure out how to access information about the number of doctors and nurses at each facility, and plot the relationship."
      ],
      "metadata": {
        "id": "P8ivq7up--6K"
      }
    },
    {
      "cell_type": "code",
      "source": [
        "### TODO: your answer here"
      ],
      "metadata": {
        "id": "nWfLdYzM_U8y"
      },
      "execution_count": null,
      "outputs": []
    },
    {
      "cell_type": "code",
      "source": [
        "import matplotlib.pyplot as plt\n",
        "plt.plot(doctors, nurses, 'x')\n",
        "plt.show()"
      ],
      "metadata": {
        "id": "gmoXqcqx_bjn"
      },
      "execution_count": null,
      "outputs": []
    },
    {
      "cell_type": "markdown",
      "source": [
        "Task 3: Is this chart good? What are the potential issues?"
      ],
      "metadata": {
        "id": "j_gG3ODU_zkV"
      }
    },
    {
      "cell_type": "code",
      "source": [
        "### TODO: your answer here\n",
        "# It's not very visible, could do with clipping, or log scale. Histogram would also be helpful."
      ],
      "metadata": {
        "id": "iYAOFrt__fLO"
      },
      "execution_count": null,
      "outputs": []
    },
    {
      "cell_type": "markdown",
      "source": [
        "Task 4: Based on your answer in Task 3, create a better chart (or charts)."
      ],
      "metadata": {
        "id": "sYGTXJxs__zN"
      }
    },
    {
      "cell_type": "code",
      "source": [
        "### TODO: your answer here"
      ],
      "metadata": {
        "id": "FlTwlD5PAfqI"
      },
      "execution_count": null,
      "outputs": []
    },
    {
      "cell_type": "markdown",
      "source": [
        "Task 5: Compute the probability that a facility has more than two nurses."
      ],
      "metadata": {
        "id": "r5PNRYwgAhuB"
      }
    },
    {
      "cell_type": "code",
      "source": [
        "### TODO: your answer here"
      ],
      "metadata": {
        "id": "08nEmXu_Atfl"
      },
      "execution_count": null,
      "outputs": []
    },
    {
      "cell_type": "code",
      "source": [
        "print(\"Probability of number of nurses being greather than 2 is:\", prob_more_than_two)"
      ],
      "metadata": {
        "id": "FeXf3Jp_Au5B"
      },
      "execution_count": null,
      "outputs": []
    },
    {
      "cell_type": "markdown",
      "source": [
        "Task 6: We might believe that the number of nurses is dependent on the number of doctors. For this we can try estimating $P(Y>2|X>1)$ and compare the result, for example to $P(Y>2|X≤1)$ using our empirical estimate of the probability.\n",
        "\n",
        "Compute the two probabilities below."
      ],
      "metadata": {
        "id": "yaAlP8gbCqk3"
      }
    },
    {
      "cell_type": "code",
      "source": [
        "### TODO: your answer here"
      ],
      "metadata": {
        "id": "IxXxAf1fCvP3"
      },
      "execution_count": null,
      "outputs": []
    },
    {
      "cell_type": "code",
      "source": [
        "print(\"Probability of number of nurses being greater than 2 given number of doctors is <=1 is:\", prob_if_few_doctors)\n",
        "print(\"Probability of number of nurses being greater than 2 given number of doctors is >1 is:\", prob_if_many_doctors)"
      ],
      "metadata": {
        "id": "1FB931k3C8iH"
      },
      "execution_count": null,
      "outputs": []
    },
    {
      "cell_type": "markdown",
      "source": [
        "### Part 3 (Probability)"
      ],
      "metadata": {
        "id": "42YtKoJgBDyz"
      }
    },
    {
      "cell_type": "markdown",
      "source": [
        "Task 7:\n",
        "Given the data on the number of nurses ($y$) and the number of doctors ($x$),\n",
        "\n",
        "write code that prints out the:\n",
        "- marginal probability $P(X=x)$\n",
        "- conditional probability $P(Y=y|X=x)$\n",
        "- joint probability $P(Y=y,X=x)$"
      ],
      "metadata": {
        "id": "JZ3d8SpkEFm-"
      }
    },
    {
      "cell_type": "code",
      "source": [
        "num_doctors=1\n",
        "num_nurses=2\n",
        "### TODO: your answer here"
      ],
      "metadata": {
        "id": "Ce0cMcTLDSPX"
      },
      "execution_count": null,
      "outputs": []
    },
    {
      "cell_type": "code",
      "source": [
        "print(\"P(x) is\", p_x)\n",
        "print(\"P(y|x) is\", p_y_given_x)\n",
        "print(\"P(y,x) is\", p_y_and_x)"
      ],
      "metadata": {
        "id": "4DHCWCa_EZfD"
      },
      "execution_count": null,
      "outputs": []
    },
    {
      "cell_type": "markdown",
      "source": [
        "Task 8:\n",
        "Verify the Sum Rule by writing code that computes $P(Y=y)$ by adding $P(P=y, X=x)$ for all values of $x$."
      ],
      "metadata": {
        "id": "DuNm_hkdGG1H"
      }
    },
    {
      "cell_type": "code",
      "source": [
        "### TODO: your answer here"
      ],
      "metadata": {
        "id": "JoQToAeCJPpX"
      },
      "execution_count": null,
      "outputs": []
    },
    {
      "cell_type": "markdown",
      "source": [
        "Task 9:\n",
        "\n",
        "What use is all this probability in data science? Let's think about how we might use the probabilities to do some decision making. Look at the information data using `data.columns`.\n",
        "\n",
        "Now we see we have several additional features. Let's assume we want to predict `maternal_health_delivery_services`. How would we go about doing it?\n",
        "\n",
        "Using what you know about joint, conditional and marginal probabilities, as well as the sum and product rule, how would you formulate the question you want to answer in terms of probabilities? Should you be using a joint or a conditional distribution? If it's conditional, what should the distribution be over, and what should it be conditioned on?"
      ],
      "metadata": {
        "id": "ce5SA6jQGc8t"
      }
    },
    {
      "cell_type": "code",
      "source": [
        "### TODO: your answer here"
      ],
      "metadata": {
        "id": "HjX8opFHGQkO"
      },
      "execution_count": null,
      "outputs": []
    },
    {
      "cell_type": "markdown",
      "source": [
        "Thanks for your work! Remember to attach this file in your submission, and sign your name at the top."
      ],
      "metadata": {
        "id": "IgocY6Y-Hjfh"
      }
    }
  ]
}